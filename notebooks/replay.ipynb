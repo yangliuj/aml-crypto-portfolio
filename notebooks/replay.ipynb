{
 "cells": [
  {
   "cell_type": "markdown",
   "id": "7d5c8262",
   "metadata": {},
   "source": [
    "# Audit Replay 复跑原型"
   ]
  },
  {
   "cell_type": "code",
   "execution_count": null,
   "id": "c8d5f955",
   "metadata": {},
   "outputs": [],
   "source": [
    "import pandas as pd, duckdb, hashlib, os, json, datetime"
   ]
  },
  {
   "cell_type": "code",
   "execution_count": null,
   "id": "2d9ad3fd",
   "metadata": {},
   "outputs": [],
   "source": [
    "tx = pd.read_csv('../data/raw/tx_sample.csv'); tags = pd.read_csv('../data/raw/address_tags.csv')"
   ]
  },
  {
   "cell_type": "code",
   "execution_count": null,
   "id": "4f16c33c",
   "metadata": {},
   "outputs": [],
   "source": [
    "def sha256_path(p):\n",
    "    import hashlib\n",
    "    with open(p,'rb') as f: return hashlib.sha256(f.read()).hexdigest()\n",
    "SNAP={'tx':sha256_path('../data/raw/tx_sample.csv'),'tags':sha256_path('../data/raw/address_tags.csv'),'at':datetime.datetime.utcnow().isoformat()+'Z'}; SNAP"
   ]
  },
  {
   "cell_type": "code",
   "execution_count": null,
   "id": "1ebfac0b",
   "metadata": {},
   "outputs": [],
   "source": [
    "con = duckdb.connect(database=':memory:'); con.register('tx',tx); con.register('address_tag',tags)\n",
    "r1=con.execute(\"\"\"\n",
    "select t.tx_hash, t.to_addr, at.tag_type, at.confidence\n",
    "from tx t join address_tag at on lower(at.address)=lower(t.to_addr)\n",
    "where at.tag_type in ('SANCTIONS','MIXER') and at.confidence>=0.80\n",
    "\"\"\").fetchdf(); r1"
   ]
  },
  {
   "cell_type": "code",
   "execution_count": null,
   "id": "4ee8ff5e",
   "metadata": {},
   "outputs": [],
   "source": [
    "r3=con.execute(\"\"\"\n",
    "with inflow as (\n",
    "  select to_addr, count(distinct from_addr) src_cnt, sum(amount) sum_in,\n",
    "         min(block_time) tmin, max(block_time) tmax from tx group by to_addr)\n",
    "select o.tx_hash suspicious_tx, i.to_addr aggregator_addr, i.src_cnt, i.sum_in, o.block_time out_time, o.amount out_amt\n",
    "from inflow i join tx o on lower(o.from_addr)=lower(i.to_addr)\n",
    "where i.src_cnt>=2 and o.amount>=i.sum_in*0.8 and o.block_time between i.tmin and i.tmax\n",
    "\"\"\").fetchdf(); r3"
   ]
  },
  {
   "cell_type": "code",
   "execution_count": null,
   "id": "bc251b2b",
   "metadata": {},
   "outputs": [],
   "source": [
    "os.makedirs('../reports/STR_cases', exist_ok=True)\n",
    "for txh in r1['tx_hash'].tolist():\n",
    "    open(f'../reports/STR_cases/R1_{txh}.md','w',encoding='utf-8').write(f\"R1 {txh}\\nSNAP={json.dumps(SNAP)}\")\n",
    "for txh in r3['suspicious_tx'].tolist():\n",
    "    open(f'../reports/STR_cases/R3_{txh}.md','w',encoding='utf-8').write(f\"R3 {txh}\\nSNAP={json.dumps(SNAP)}\")\n",
    "\"写入完成\""
   ]
  }
 ],
 "metadata": {},
 "nbformat": 4,
 "nbformat_minor": 5
}